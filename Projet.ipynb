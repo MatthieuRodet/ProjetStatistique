{
 "cells": [
  {
   "cell_type": "code",
   "execution_count": 2,
   "metadata": {},
   "outputs": [],
   "source": [
    "import matplotlib.pyplot\n",
    "import pandas\n",
    "import scipy.stats\n",
    "import numpy as np"
   ]
  },
  {
   "cell_type": "code",
   "execution_count": 3,
   "metadata": {},
   "outputs": [
    {
     "output_type": "execute_result",
     "data": {
      "text/plain": [
       "        sexe        preusuel annais  nombre\n",
       "0          1  _PRENOMS_RARES   1900    1250\n",
       "1          1  _PRENOMS_RARES   1901    1340\n",
       "2          1  _PRENOMS_RARES   1902    1329\n",
       "3          1  _PRENOMS_RARES   1903    1285\n",
       "4          1  _PRENOMS_RARES   1904    1427\n",
       "...      ...             ...    ...     ...\n",
       "652051     2           ZYNEB   2016       6\n",
       "652052     2           ZYNEB   2017       6\n",
       "652053     2           ZYNEB   2018       5\n",
       "652054     2           ZYNEB   2019       7\n",
       "652055     2           ZYNEB   XXXX      19\n",
       "\n",
       "[652056 rows x 4 columns]"
      ],
      "text/html": "<div>\n<style scoped>\n    .dataframe tbody tr th:only-of-type {\n        vertical-align: middle;\n    }\n\n    .dataframe tbody tr th {\n        vertical-align: top;\n    }\n\n    .dataframe thead th {\n        text-align: right;\n    }\n</style>\n<table border=\"1\" class=\"dataframe\">\n  <thead>\n    <tr style=\"text-align: right;\">\n      <th></th>\n      <th>sexe</th>\n      <th>preusuel</th>\n      <th>annais</th>\n      <th>nombre</th>\n    </tr>\n  </thead>\n  <tbody>\n    <tr>\n      <th>0</th>\n      <td>1</td>\n      <td>_PRENOMS_RARES</td>\n      <td>1900</td>\n      <td>1250</td>\n    </tr>\n    <tr>\n      <th>1</th>\n      <td>1</td>\n      <td>_PRENOMS_RARES</td>\n      <td>1901</td>\n      <td>1340</td>\n    </tr>\n    <tr>\n      <th>2</th>\n      <td>1</td>\n      <td>_PRENOMS_RARES</td>\n      <td>1902</td>\n      <td>1329</td>\n    </tr>\n    <tr>\n      <th>3</th>\n      <td>1</td>\n      <td>_PRENOMS_RARES</td>\n      <td>1903</td>\n      <td>1285</td>\n    </tr>\n    <tr>\n      <th>4</th>\n      <td>1</td>\n      <td>_PRENOMS_RARES</td>\n      <td>1904</td>\n      <td>1427</td>\n    </tr>\n    <tr>\n      <th>...</th>\n      <td>...</td>\n      <td>...</td>\n      <td>...</td>\n      <td>...</td>\n    </tr>\n    <tr>\n      <th>652051</th>\n      <td>2</td>\n      <td>ZYNEB</td>\n      <td>2016</td>\n      <td>6</td>\n    </tr>\n    <tr>\n      <th>652052</th>\n      <td>2</td>\n      <td>ZYNEB</td>\n      <td>2017</td>\n      <td>6</td>\n    </tr>\n    <tr>\n      <th>652053</th>\n      <td>2</td>\n      <td>ZYNEB</td>\n      <td>2018</td>\n      <td>5</td>\n    </tr>\n    <tr>\n      <th>652054</th>\n      <td>2</td>\n      <td>ZYNEB</td>\n      <td>2019</td>\n      <td>7</td>\n    </tr>\n    <tr>\n      <th>652055</th>\n      <td>2</td>\n      <td>ZYNEB</td>\n      <td>XXXX</td>\n      <td>19</td>\n    </tr>\n  </tbody>\n</table>\n<p>652056 rows × 4 columns</p>\n</div>"
     },
     "metadata": {},
     "execution_count": 3
    }
   ],
   "source": [
    "# lecture du csv et affichage\n",
    "prenoms = pandas.read_csv(\"Prénoms/nat2019.csv\", header = 0, sep = \";\")\n",
    "prenoms"
   ]
  },
  {
   "cell_type": "code",
   "execution_count": null,
   "metadata": {},
   "outputs": [],
   "source": [
    "# Note : 1 = homme, 2 = femme. test"
   ]
  },
  {
   "cell_type": "code",
   "execution_count": 4,
   "metadata": {},
   "outputs": [
    {
     "output_type": "stream",
     "name": "stdout",
     "text": [
      "Il y a eu 4117 garçon(s) nommé(s) KEVIN en 1999.\nIl y a eu 0 fille(s) nommée(s) KEVIN en 1999.\n"
     ]
    }
   ],
   "source": [
    "def search(name, year):\n",
    "    result = [0,0]\n",
    "    for i in range(652056):\n",
    "        if prenoms['preusuel'][i] == name:\n",
    "            if prenoms['annais'][i] == year:\n",
    "                result[prenoms['sexe'][i] - 1] = prenoms['nombre'][i]\n",
    "    return result\n",
    "\n",
    "research = 'KEVIN', '1999'\n",
    "\n",
    "result = search(research[0], research[1])\n",
    "\n",
    "print(\"Il y a eu \" + str(result[0]) + \" garçon(s) nommé(s) \" + research[0] + \" en \" + research[1] + \".\")\n",
    "print(\"Il y a eu \" + str(result[1]) + \" fille(s) nommée(s) \" + research[0] + \" en \" + research[1] + \".\")\n"
   ]
  },
  {
   "cell_type": "code",
   "execution_count": 6,
   "metadata": {},
   "outputs": [
    {
     "output_type": "stream",
     "name": "stderr",
     "text": [
      "<ipython-input-6-c9baa73d5486>:7: SettingWithCopyWarning: \nA value is trying to be set on a copy of a slice from a DataFrame.\nTry using .loc[row_indexer,col_indexer] = value instead\n\nSee the caveats in the documentation: https://pandas.pydata.org/pandas-docs/stable/user_guide/indexing.html#returning-a-view-versus-a-copy\n  allMatthieu['annais'] = allMatthieu['annais'].astype(int)\n"
     ]
    },
    {
     "output_type": "error",
     "ename": "AttributeError",
     "evalue": "'Series' object has no attribute 'groupeby'",
     "traceback": [
      "\u001b[0;31m---------------------------------------------------------------------------\u001b[0m",
      "\u001b[0;31mAttributeError\u001b[0m                            Traceback (most recent call last)",
      "\u001b[0;32m<ipython-input-6-c9baa73d5486>\u001b[0m in \u001b[0;36m<module>\u001b[0;34m\u001b[0m\n\u001b[1;32m      8\u001b[0m \u001b[0;34m\u001b[0m\u001b[0m\n\u001b[1;32m      9\u001b[0m \u001b[0;34m\u001b[0m\u001b[0m\n\u001b[0;32m---> 10\u001b[0;31m \u001b[0mallMatthieu\u001b[0m\u001b[0;34m[\u001b[0m\u001b[0;34m'nombre'\u001b[0m\u001b[0;34m]\u001b[0m\u001b[0;34m.\u001b[0m\u001b[0mgroupeby\u001b[0m\u001b[0;34m(\u001b[0m\u001b[0;34m'annais'\u001b[0m\u001b[0;34m)\u001b[0m\u001b[0;34m.\u001b[0m\u001b[0mhist\u001b[0m\u001b[0;34m(\u001b[0m\u001b[0;34m)\u001b[0m\u001b[0;34m\u001b[0m\u001b[0;34m\u001b[0m\u001b[0m\n\u001b[0m",
      "\u001b[0;32m~/.local/lib/python3.8/site-packages/pandas/core/generic.py\u001b[0m in \u001b[0;36m__getattr__\u001b[0;34m(self, name)\u001b[0m\n\u001b[1;32m   5463\u001b[0m             \u001b[0;32mif\u001b[0m \u001b[0mself\u001b[0m\u001b[0;34m.\u001b[0m\u001b[0m_info_axis\u001b[0m\u001b[0;34m.\u001b[0m\u001b[0m_can_hold_identifiers_and_holds_name\u001b[0m\u001b[0;34m(\u001b[0m\u001b[0mname\u001b[0m\u001b[0;34m)\u001b[0m\u001b[0;34m:\u001b[0m\u001b[0;34m\u001b[0m\u001b[0;34m\u001b[0m\u001b[0m\n\u001b[1;32m   5464\u001b[0m                 \u001b[0;32mreturn\u001b[0m \u001b[0mself\u001b[0m\u001b[0;34m[\u001b[0m\u001b[0mname\u001b[0m\u001b[0;34m]\u001b[0m\u001b[0;34m\u001b[0m\u001b[0;34m\u001b[0m\u001b[0m\n\u001b[0;32m-> 5465\u001b[0;31m             \u001b[0;32mreturn\u001b[0m \u001b[0mobject\u001b[0m\u001b[0;34m.\u001b[0m\u001b[0m__getattribute__\u001b[0m\u001b[0;34m(\u001b[0m\u001b[0mself\u001b[0m\u001b[0;34m,\u001b[0m \u001b[0mname\u001b[0m\u001b[0;34m)\u001b[0m\u001b[0;34m\u001b[0m\u001b[0;34m\u001b[0m\u001b[0m\n\u001b[0m\u001b[1;32m   5466\u001b[0m \u001b[0;34m\u001b[0m\u001b[0m\n\u001b[1;32m   5467\u001b[0m     \u001b[0;32mdef\u001b[0m \u001b[0m__setattr__\u001b[0m\u001b[0;34m(\u001b[0m\u001b[0mself\u001b[0m\u001b[0;34m,\u001b[0m \u001b[0mname\u001b[0m\u001b[0;34m:\u001b[0m \u001b[0mstr\u001b[0m\u001b[0;34m,\u001b[0m \u001b[0mvalue\u001b[0m\u001b[0;34m)\u001b[0m \u001b[0;34m->\u001b[0m \u001b[0;32mNone\u001b[0m\u001b[0;34m:\u001b[0m\u001b[0;34m\u001b[0m\u001b[0;34m\u001b[0m\u001b[0m\n",
      "\u001b[0;31mAttributeError\u001b[0m: 'Series' object has no attribute 'groupeby'"
     ]
    }
   ],
   "source": [
    "prenoms = prenoms.replace('XXXX', '2050')\n",
    "\n",
    "isMatthieu = prenoms['preusuel']=='MATTHIEU'\n",
    "allMatthieu = prenoms[isMatthieu]\n",
    "\n",
    "\n",
    "allMatthieu['annais'] = allMatthieu['annais'].astype(int)\n",
    "\n",
    "\n",
    "allMatthieu.groupeby('annais').hist()"
   ]
  },
  {
   "cell_type": "code",
   "execution_count": null,
   "metadata": {},
   "outputs": [],
   "source": []
  }
 ],
 "metadata": {
  "kernelspec": {
   "name": "python38564bit3a1b32d187cb48cd9c65b99d35bc466e",
   "display_name": "Python 3.8.5 64-bit"
  },
  "language_info": {
   "codemirror_mode": {
    "name": "ipython",
    "version": 3
   },
   "file_extension": ".py",
   "mimetype": "text/x-python",
   "name": "python",
   "nbconvert_exporter": "python",
   "pygments_lexer": "ipython3",
   "version": "3.8.5-final"
  },
  "metadata": {
   "interpreter": {
    "hash": "31f2aee4e71d21fbe5cf8b01ff0e069b9275f58929596ceb00d14d90e3e16cd6"
   }
  }
 },
 "nbformat": 4,
 "nbformat_minor": 4
}